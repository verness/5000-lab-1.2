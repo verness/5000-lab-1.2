{
 "cells": [
  {
   "cell_type": "markdown",
   "id": "60da2f65",
   "metadata": {},
   "source": [
    "---\n",
    "title: \"Component 6\"\n",
    "author: \"Verness Chin\"\n",
    "format:\n",
    "  revealjs:\n",
    "    theme: simple\n",
    "    slide-number: true\n",
    "    auto-stretch: true\n",
    "    lang: en\n",
    "pdf-separate-fragments: false\n",
    "bibliography: ../reference.bib\n",
    "link-citations: true\n",
    "slide-level: 2\n",
    "---"
   ]
  },
  {
   "cell_type": "markdown",
   "id": "fb60e4e5",
   "metadata": {},
   "source": [
    "## Overview\n",
    "“Advances in deep convolutional networks have driven major gains in image classification [@he2016deep].”\n",
    "\n",
    "- Overview\n",
    "- Two images\n",
    "- A visible plot\n",
    "\n"
   ]
  },
  {
   "cell_type": "markdown",
   "id": "52619db2",
   "metadata": {},
   "source": [
    "## Visuals\n",
    "\n",
    "::: {.columns}\n",
    "::: {.column}\n",
    "**Data Science Life Cycle**\n",
    "\n",
    "![](../images/data-science-600x503.png)\n",
    ":::\n",
    "\n",
    "::: {.column}\n",
    "**Future of Data Science**\n",
    "\n",
    "![](../images/images.jpeg)\n",
    ":::\n",
    ":::"
   ]
  },
  {
   "cell_type": "code",
   "execution_count": null,
   "id": "dfa9595d",
   "metadata": {
    "vscode": {
     "languageId": "plaintext"
    }
   },
   "outputs": [],
   "source": [
    "import numpy as np\n",
    "import matplotlib.pyplot as plt\n",
    "\n",
    "x = np.linspace(0, 2 * np.pi, 100)\n",
    "y = np.exp(x)\n",
    "\n",
    "plt.figure()\n",
    "plt.plot(x, y)\n",
    "plt.title(\"Exponential Growth\")\n",
    "plt.xlabel(\"x\")\n",
    "plt.ylabel(\"sin(2x)\")\n",
    "plt.grid(True)\n",
    "plt.show()"
   ]
  },
  {
   "cell_type": "code",
   "execution_count": null,
   "id": "9157763f",
   "metadata": {
    "vscode": {
     "languageId": "plaintext"
    }
   },
   "outputs": [],
   "source": [
    "x = np.linspace(0, 2 * np.pi, 100)\n",
    "y = np.exp(x)"
   ]
  },
  {
   "cell_type": "markdown",
   "id": "d0f1e731",
   "metadata": {},
   "source": [
    "## Reference"
   ]
  },
  {
   "cell_type": "code",
   "execution_count": null,
   "id": "69ba311f",
   "metadata": {
    "vscode": {
     "languageId": "plaintext"
    }
   },
   "outputs": [],
   "source": []
  }
 ],
 "metadata": {
  "language_info": {
   "name": "python"
  }
 },
 "nbformat": 4,
 "nbformat_minor": 5
}
